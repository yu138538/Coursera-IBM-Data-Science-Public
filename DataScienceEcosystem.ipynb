{
  "nbformat": 4,
  "nbformat_minor": 0,
  "metadata": {
    "colab": {
      "provenance": [],
      "authorship_tag": "ABX9TyMDa+QzRrqiJQv1V9aMpSXt",
      "include_colab_link": true
    },
    "kernelspec": {
      "name": "python3",
      "display_name": "Python 3"
    },
    "language_info": {
      "name": "python"
    }
  },
  "cells": [
    {
      "cell_type": "markdown",
      "metadata": {
        "id": "view-in-github",
        "colab_type": "text"
      },
      "source": [
        "<a href=\"https://colab.research.google.com/github/yu138538/Coursera-IBM-Data-Science-Public/blob/main/DataScienceEcosystem.ipynb\" target=\"_parent\"><img src=\"https://colab.research.google.com/assets/colab-badge.svg\" alt=\"Open In Colab\"/></a>"
      ]
    },
    {
      "cell_type": "markdown",
      "source": [
        "#### Ex 2\n",
        "##### 2-title.png\n",
        "***\n",
        "\n",
        "# Data Science Tools and Ecosystem\n",
        "\n"
      ],
      "metadata": {
        "id": "fvwaKvNwJxK7"
      }
    },
    {
      "cell_type": "markdown",
      "source": [
        "#### Ex 3\n",
        "##### 3-intro.png\n",
        "***\n",
        "\n",
        "In this notebook, Data Science Tools and Ecosystem are summarized."
      ],
      "metadata": {
        "id": "s-jEuasRKGT0"
      }
    },
    {
      "cell_type": "markdown",
      "source": [
        "#### Ex 4\n",
        "##### 4-dslanguages.png\n",
        "***\n",
        "\n",
        "Some of the popular languages that Data Scientists use are:\n",
        "\n",
        "1. R\n",
        "2. Python\n",
        "3. Matlab"
      ],
      "metadata": {
        "id": "_LybxM-zLsFU"
      }
    },
    {
      "cell_type": "markdown",
      "source": [
        "#### Ex 5\n",
        "##### 5-dslibraries.png\n",
        "***\n",
        "\n",
        "Some of the commonly used libraries used by Data Scientists include:\n",
        "\n",
        "1. SciKit-Learn\n",
        "2. SciPy\n",
        "3. PyTorch"
      ],
      "metadata": {
        "id": "CRNTeVWfN3oD"
      }
    },
    {
      "cell_type": "markdown",
      "source": [
        "#### Ex 6\n",
        "##### 6-dstools.png\n",
        "***\n",
        "\n",
        "Some of the commonly used libraries used by Data Science tools include:\n",
        "\n",
        "|Data Science Tools|\n",
        "|------------------|\n",
        "|RStudio|\n",
        "|Jupyter Labs|\n",
        "|Google Colabs|"
      ],
      "metadata": {
        "id": "HPAWfmxDOs5O"
      }
    },
    {
      "cell_type": "markdown",
      "source": [
        "#### Ex 7\n",
        "##### 7-introarithmetic.png\n",
        "***\n",
        "\n",
        "### Below are a few examples of evaluating arithmetic expressions in Python\n",
        "\n"
      ],
      "metadata": {
        "id": "_HNOY2ZlSBPe"
      }
    },
    {
      "cell_type": "code",
      "source": [
        "# Ex 8\n",
        "# 8-multiplyandaddintegers.png\n",
        "\n",
        "print(\"This a simple arithmetic expression to mutiply then add integers\\n\")\n",
        "\n",
        "(3*4)+5"
      ],
      "metadata": {
        "colab": {
          "base_uri": "https://localhost:8080/"
        },
        "id": "U1cWPQuaSbz4",
        "outputId": "8bccedbb-5f31-4b3b-d92b-8025b8ec392d"
      },
      "execution_count": 1,
      "outputs": [
        {
          "output_type": "stream",
          "name": "stdout",
          "text": [
            "This a simple arithmetic expression to mutiply then add integers\n",
            "\n"
          ]
        },
        {
          "output_type": "execute_result",
          "data": {
            "text/plain": [
              "17"
            ]
          },
          "metadata": {},
          "execution_count": 1
        }
      ]
    },
    {
      "cell_type": "code",
      "source": [
        "# Ex 9\n",
        "# 9-hourstominutes.png\n",
        "\n",
        "print(\"This will convert 200 minutes to hours by diving by 60 \\n\")\n",
        "\n",
        "min = 200\n",
        "hours = min / 60\n",
        "\n",
        "hours"
      ],
      "metadata": {
        "colab": {
          "base_uri": "https://localhost:8080/"
        },
        "id": "lYo_g6XzWu7T",
        "outputId": "01844bf6-84f2-4599-a5d2-1bb4d35ea124"
      },
      "execution_count": 2,
      "outputs": [
        {
          "output_type": "stream",
          "name": "stdout",
          "text": [
            "This will convert 200 minutes to hours by diving by 60 \n",
            "\n"
          ]
        },
        {
          "output_type": "execute_result",
          "data": {
            "text/plain": [
              "3.3333333333333335"
            ]
          },
          "metadata": {},
          "execution_count": 2
        }
      ]
    },
    {
      "cell_type": "markdown",
      "source": [
        "#### Ex 10\n",
        "##### 10-objectives.png\n",
        "***\n",
        "\n",
        "**Objectives:**\n",
        "\n",
        "* Data science languages\n",
        "* Data science tools\n",
        "* Data Science libraries\n",
        "* Demonstration of IPYNB functionality\n"
      ],
      "metadata": {
        "id": "g7lotw6FX3gD"
      }
    },
    {
      "cell_type": "markdown",
      "source": [
        "#### Ex 11\n",
        "##### 11-authordetails.png\n",
        "***\n",
        "\n",
        "## Author\n",
        "N R"
      ],
      "metadata": {
        "id": "I-n2CYYnY_h7"
      }
    }
  ]
}